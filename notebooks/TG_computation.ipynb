{
 "cells": [
  {
   "cell_type": "markdown",
   "id": "7d933619-f11a-409c-b0d2-ffaa7ba97a70",
   "metadata": {},
   "source": [
    "# Compute climate index TG ('Mean daily mean temperature'). The computation in the back is taken from the python module xclim"
   ]
  },
  {
   "cell_type": "code",
   "execution_count": null,
   "id": "2bffe73f-ad61-48fc-a675-26f8c0f34eb9",
   "metadata": {},
   "outputs": [],
   "source": [
    "%load_ext autoreload\n",
    "%autoreload 2"
   ]
  },
  {
   "cell_type": "code",
   "execution_count": null,
   "id": "ce29dcc7-1d1f-453c-ac21-79bff53f5275",
   "metadata": {},
   "outputs": [],
   "source": [
    "import index_calculator as xcalc\n",
    "import xarray as xr"
   ]
  },
  {
   "cell_type": "markdown",
   "id": "48451e54-0927-4587-8eb4-b0adc55711bf",
   "metadata": {},
   "source": [
    "Select one CORDEX `tas` file and open it with xarray."
   ]
  },
  {
   "cell_type": "code",
   "execution_count": null,
   "id": "4d670f76-736b-4909-adea-23da4cf105e9",
   "metadata": {},
   "outputs": [],
   "source": [
    "ifile='/pool/data/CORDEX/data/cordex/output/EUR-11/GERICS/MPI-M-MPI-ESM-LR/historical/r3i1p1/GERICS-REMO2015/v1/day/tas/v20190925/tas_EUR-11_MPI-M-MPI-ESM-LR_historical_r3i1p1_GERICS-REMO2015_v1_day_20010101-20051231.nc'"
   ]
  },
  {
   "cell_type": "code",
   "execution_count": null,
   "id": "57055f86-57ac-499b-b83c-f787d64b44d1",
   "metadata": {},
   "outputs": [],
   "source": [
    "def open_xrdataset(files, use_cftime=True, parallel=True, data_vars='minimal', chunks={'time':1}, \n",
    "                   coords='minimal', compat='override', drop=None, **kwargs):\n",
    "    \"\"\"optimized function for opening large cf datasets.\n",
    "    based on https://github.com/pydata/xarray/issues/1385#issuecomment-561920115\n",
    "    decode_timedelta=False is added to leave variables and coordinates with time units in \n",
    "    {“days”, “hours”, “minutes”, “seconds”, “milliseconds”, “microseconds”} encoded as numbers.   \n",
    "    \"\"\"\n",
    "    def drop_all_coords(ds):\n",
    "        return ds.reset_coords(drop=True)\n",
    "\n",
    "    ds = xr.open_mfdataset(files, parallel=parallel, decode_times=False, combine='by_coords', \n",
    "                           preprocess=drop_all_coords, decode_cf=False, chunks=chunks,\n",
    "                           data_vars=data_vars, coords=coords, compat=compat, **kwargs)\n",
    "\n",
    "    return xr.decode_cf(ds, use_cftime=use_cftime, decode_timedelta=False)"
   ]
  },
  {
   "cell_type": "code",
   "execution_count": null,
   "id": "e5ec4514-3c18-4442-9307-14290a66adda",
   "metadata": {},
   "outputs": [],
   "source": [
    "ds = open_xrdataset(ifile)\n",
    "ds"
   ]
  },
  {
   "cell_type": "markdown",
   "id": "2adcdaab-f13a-4943-95d8-2a438e05ceda",
   "metadata": {},
   "source": [
    "Now do a preprocessing of the dataset and create an index_calculator.PreProcessing object.\n",
    "Preprocessor tasks are:\n",
    "* select a user-given time range (parameter: time_range)\n",
    "* check time axis for missing, redundant and duplicated time steps\n",
    "* crop time axis to required left and right border\n",
    "* write available and requested time range to object"
   ]
  },
  {
   "cell_type": "code",
   "execution_count": null,
   "id": "e8f483a1-ed6b-496f-b362-6aff418021e9",
   "metadata": {},
   "outputs": [],
   "source": [
    "preproc = xcalc.preprocessing(ds)\n",
    "preproc.preproc"
   ]
  },
  {
   "cell_type": "markdown",
   "id": "96267841-4332-498c-bab0-7ed8275b9c70",
   "metadata": {},
   "source": [
    "Now, use the above object to compute the climate index `TG`."
   ]
  },
  {
   "cell_type": "code",
   "execution_count": null,
   "id": "9df8f4d1-4e28-42c9-b49e-7579790574d3",
   "metadata": {},
   "outputs": [],
   "source": [
    "idx_ds = xcalc.processing('TG', preproc_obj=preproc)\n",
    "idx_ds.proc"
   ]
  },
  {
   "cell_type": "markdown",
   "id": "16089ceb-3d84-43eb-9c4d-33740a8036e5",
   "metadata": {},
   "source": [
    "Finally, do some postprocessing. The postprocessor writes some additional attributes to `ds`' global attributes."
   ]
  },
  {
   "cell_type": "code",
   "execution_count": null,
   "id": "01856043-f25f-4d1b-b538-c287383d629b",
   "metadata": {},
   "outputs": [],
   "source": [
    "postproc = xcalc.postprocessing('CORDEX', proc_obj=idx_ds, institution='Helmholtz-Zentrum hereon GmbH, Climate Service Center Germany', \n",
    "             institution_id='GERICS')\n",
    "postproc.postproc"
   ]
  },
  {
   "cell_type": "markdown",
   "id": "29b9ac11-9d4e-4731-b7e4-9350538a8db2",
   "metadata": {},
   "source": [
    "Optionaly, we can store the dataset as a netCDF file on disk. The output file naming depends on the user-given project. "
   ]
  },
  {
   "cell_type": "code",
   "execution_count": null,
   "id": "301dd607-98fe-4166-bbec-d3eff18ca4da",
   "metadata": {},
   "outputs": [],
   "source": [
    "xcalc.outputwriter(postproc_obj=postproc).write_to_netcdf()"
   ]
  },
  {
   "cell_type": "markdown",
   "id": "346ae009-9711-4c44-bb02-38aa276514c1",
   "metadata": {},
   "source": [
    "For simplyfication, we can do preprocessing, processing, postprocessing and output file storing by calloing just one function."
   ]
  },
  {
   "cell_type": "code",
   "execution_count": null,
   "id": "ede3e426-4701-4f1d-ab47-922aae82898f",
   "metadata": {},
   "outputs": [],
   "source": [
    "idx_ds = xcalc.index_calculator(ds=ds, \n",
    "                                index='TG', \n",
    "                                project='CORDEX', \n",
    "                                institution='GERICS', \n",
    "                                institution_id='Helmholtz-Zentrum hereon GmbH, Climate Service Center Germany').compute(write=True)"
   ]
  },
  {
   "cell_type": "code",
   "execution_count": null,
   "id": "ebac4ee2-79b8-41b0-b056-242a6a5cf0f6",
   "metadata": {},
   "outputs": [],
   "source": [
    "idx_ds"
   ]
  },
  {
   "cell_type": "code",
   "execution_count": null,
   "id": "5729d69d-f8ff-4b5d-bf7d-f792a78f503d",
   "metadata": {},
   "outputs": [],
   "source": []
  }
 ],
 "metadata": {
  "kernelspec": {
   "display_name": "xcalc",
   "language": "python",
   "name": "xcalc"
  },
  "language_info": {
   "codemirror_mode": {
    "name": "ipython",
    "version": 3
   },
   "file_extension": ".py",
   "mimetype": "text/x-python",
   "name": "python",
   "nbconvert_exporter": "python",
   "pygments_lexer": "ipython3",
   "version": "3.10.4"
  }
 },
 "nbformat": 4,
 "nbformat_minor": 5
}
